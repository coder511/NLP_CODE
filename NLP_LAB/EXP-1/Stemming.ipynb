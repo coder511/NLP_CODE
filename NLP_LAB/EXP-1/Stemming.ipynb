{
 "cells": [
  {
   "cell_type": "markdown",
   "id": "d09151f6",
   "metadata": {},
   "source": [
    "# Stemming"
   ]
  },
  {
   "cell_type": "markdown",
   "id": "f88c72ce",
   "metadata": {},
   "source": [
    "# Porter Stemmer"
   ]
  },
  {
   "cell_type": "code",
   "execution_count": 1,
   "id": "5a6e247b",
   "metadata": {},
   "outputs": [],
   "source": [
    "import nltk"
   ]
  },
  {
   "cell_type": "code",
   "execution_count": 2,
   "id": "32cd0031",
   "metadata": {},
   "outputs": [],
   "source": [
    "from nltk.stem import PorterStemmer"
   ]
  },
  {
   "cell_type": "code",
   "execution_count": 5,
   "id": "f481c516",
   "metadata": {},
   "outputs": [],
   "source": [
    "porter = PorterStemmer()"
   ]
  },
  {
   "cell_type": "code",
   "execution_count": 26,
   "id": "f7556840",
   "metadata": {},
   "outputs": [],
   "source": [
    "sentence=\"Importance of survival?\""
   ]
  },
  {
   "cell_type": "code",
   "execution_count": 27,
   "id": "bf69e6bd",
   "metadata": {},
   "outputs": [],
   "source": [
    "from nltk.tokenize import word_tokenize"
   ]
  },
  {
   "cell_type": "code",
   "execution_count": 28,
   "id": "7d4ecd0a",
   "metadata": {},
   "outputs": [
    {
     "data": {
      "text/plain": [
       "['Importance', 'of', 'survival', '?']"
      ]
     },
     "execution_count": 28,
     "metadata": {},
     "output_type": "execute_result"
    }
   ],
   "source": [
    "sent=word_tokenize(sentence)\n",
    "sent"
   ]
  },
  {
   "cell_type": "code",
   "execution_count": 29,
   "id": "3054ebbc",
   "metadata": {},
   "outputs": [
    {
     "name": "stdout",
     "output_type": "stream",
     "text": [
      "import\n",
      "of\n",
      "surviv\n",
      "?\n"
     ]
    }
   ],
   "source": [
    "for w in sent:\n",
    "    print(porter.stem(w))"
   ]
  },
  {
   "cell_type": "markdown",
   "id": "0d81baa8",
   "metadata": {},
   "source": [
    "# Snowball Stemmer\n"
   ]
  },
  {
   "cell_type": "code",
   "execution_count": 30,
   "id": "a077fbbc",
   "metadata": {},
   "outputs": [],
   "source": [
    "from nltk.stem.snowball import SnowballStemmer"
   ]
  },
  {
   "cell_type": "code",
   "execution_count": 31,
   "id": "0496970b",
   "metadata": {},
   "outputs": [],
   "source": [
    "snow=SnowballStemmer(language=\"english\")"
   ]
  },
  {
   "cell_type": "code",
   "execution_count": 32,
   "id": "4d71c205",
   "metadata": {},
   "outputs": [],
   "source": [
    "sentence=\"Importance of survival?\""
   ]
  },
  {
   "cell_type": "code",
   "execution_count": 33,
   "id": "898acf80",
   "metadata": {},
   "outputs": [],
   "source": [
    "from nltk.tokenize import word_tokenize"
   ]
  },
  {
   "cell_type": "code",
   "execution_count": 34,
   "id": "eea3cc08",
   "metadata": {},
   "outputs": [
    {
     "data": {
      "text/plain": [
       "['Importance', 'of', 'survival', '?']"
      ]
     },
     "execution_count": 34,
     "metadata": {},
     "output_type": "execute_result"
    }
   ],
   "source": [
    "sent=word_tokenize(sentence)\n",
    "sent"
   ]
  },
  {
   "cell_type": "code",
   "execution_count": 35,
   "id": "16c9bd76",
   "metadata": {},
   "outputs": [
    {
     "name": "stdout",
     "output_type": "stream",
     "text": [
      "import\n",
      "of\n",
      "surviv\n",
      "?\n"
     ]
    }
   ],
   "source": [
    "for w in sent:\n",
    "    print(snow.stem(w))"
   ]
  },
  {
   "cell_type": "markdown",
   "id": "1d9d8d7b",
   "metadata": {},
   "source": [
    "#    LEMMATIZATIO\n",
    "N"
   ]
  },
  {
   "cell_type": "code",
   "execution_count": 37,
   "id": "4241732e",
   "metadata": {},
   "outputs": [
    {
     "name": "stderr",
     "output_type": "stream",
     "text": [
      "[nltk_data] Downloading package wordnet to\n",
      "[nltk_data]     C:\\Users\\vansh\\AppData\\Roaming\\nltk_data...\n"
     ]
    }
   ],
   "source": [
    "nltk.download('wordnet')\n",
    "from nltk.stem import WordNetLemmatizer\n",
    "lemmatizer=WordNetLemmatizer()\n"
   ]
  },
  {
   "cell_type": "code",
   "execution_count": 49,
   "id": "cc6f444a",
   "metadata": {},
   "outputs": [],
   "source": [
    "sentence=\"The house is randomness the river. \""
   ]
  },
  {
   "cell_type": "code",
   "execution_count": 50,
   "id": "28ff2fcd",
   "metadata": {},
   "outputs": [],
   "source": [
    "from nltk.tokenize import word_tokenize"
   ]
  },
  {
   "cell_type": "code",
   "execution_count": 51,
   "id": "37e895a3",
   "metadata": {},
   "outputs": [
    {
     "data": {
      "text/plain": [
       "['The', 'house', 'is', 'randomness', 'the', 'river', '.']"
      ]
     },
     "execution_count": 51,
     "metadata": {},
     "output_type": "execute_result"
    }
   ],
   "source": [
    "sent= word_tokenize(sentence)\n",
    "sent"
   ]
  },
  {
   "cell_type": "code",
   "execution_count": 52,
   "id": "a5c9eb5b",
   "metadata": {},
   "outputs": [
    {
     "name": "stdout",
     "output_type": "stream",
     "text": [
      "The\n",
      "house\n",
      "is\n",
      "randomness\n",
      "the\n",
      "river\n",
      ".\n"
     ]
    }
   ],
   "source": [
    "for w in sent:\n",
    "    print(lemmatizer.lemmatize(w))"
   ]
  },
  {
   "cell_type": "code",
   "execution_count": null,
   "id": "3ec7ec3a",
   "metadata": {},
   "outputs": [],
   "source": []
  },
  {
   "cell_type": "code",
   "execution_count": null,
   "id": "4a843e2c",
   "metadata": {},
   "outputs": [],
   "source": []
  }
 ],
 "metadata": {
  "kernelspec": {
   "display_name": "Python 3 (ipykernel)",
   "language": "python",
   "name": "python3"
  },
  "language_info": {
   "codemirror_mode": {
    "name": "ipython",
    "version": 3
   },
   "file_extension": ".py",
   "mimetype": "text/x-python",
   "name": "python",
   "nbconvert_exporter": "python",
   "pygments_lexer": "ipython3",
   "version": "3.7.0"
  }
 },
 "nbformat": 4,
 "nbformat_minor": 5
}
