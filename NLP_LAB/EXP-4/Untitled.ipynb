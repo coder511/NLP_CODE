{
 "cells": [
  {
   "cell_type": "code",
   "execution_count": 2,
   "id": "bef4a46e",
   "metadata": {},
   "outputs": [
    {
     "name": "stdout",
     "output_type": "stream",
     "text": [
      "Enter a sentence: hello you are an appl\n",
      "Enter the value of n: 2\n",
      "2-grams: [('hello', 'you'), ('you', 'are'), ('are', 'an'), ('an', 'appl')]\n"
     ]
    }
   ],
   "source": [
    "import nltk\n",
    "\n",
    "def calculate_ngrams():\n",
    "    # Prompt the user for a sentence\n",
    "    sentence = input(\"Enter a sentence: \")\n",
    "    # Prompt the user for the value of n\n",
    "    n = int(input(\"Enter the value of n: \"))\n",
    "    # Tokenize the sentence into words\n",
    "    words = nltk.word_tokenize(sentence)\n",
    "    # Generate the n-grams using NLTK's ngrams function\n",
    "    ngrams = list(nltk.ngrams(words, n))\n",
    "    # Print the n-grams\n",
    "    print(f\"{n}-grams: {ngrams}\")\n",
    "\n",
    "calculate_ngrams()"
   ]
  },
  {
   "cell_type": "code",
   "execution_count": null,
   "id": "8b789731",
   "metadata": {},
   "outputs": [],
   "source": []
  },
  {
   "cell_type": "code",
   "execution_count": null,
   "id": "2de0869b",
   "metadata": {},
   "outputs": [],
   "source": []
  },
  {
   "cell_type": "code",
   "execution_count": 1,
   "id": "f83aaf94",
   "metadata": {},
   "outputs": [],
   "source": [
    "import collections\n",
    "\n",
    "# Define the training data as a list of sentences\n",
    "training_data = [\n",
    "    \"The quick brown fox jumps over the lazy dog\",\n",
    "    \"The quick brown dog jumps over the lazy cat\",\n",
    "    \"The lazy cat jumps over the quick brown mouse\"\n",
    "]"
   ]
  },
  {
   "cell_type": "code",
   "execution_count": 4,
   "id": "85976f22",
   "metadata": {},
   "outputs": [
    {
     "ename": "NameError",
     "evalue": "name 'training_data' is not defined",
     "output_type": "error",
     "traceback": [
      "\u001b[1;31m---------------------------------------------------------------------------\u001b[0m",
      "\u001b[1;31mNameError\u001b[0m                                 Traceback (most recent call last)",
      "\u001b[1;32m~\\AppData\\Local\\Temp\\ipykernel_23308\\776448151.py\u001b[0m in \u001b[0;36m<module>\u001b[1;34m\u001b[0m\n\u001b[0;32m      1\u001b[0m \u001b[1;31m# Tokenize the training data into words\u001b[0m\u001b[1;33m\u001b[0m\u001b[1;33m\u001b[0m\u001b[0m\n\u001b[1;32m----> 2\u001b[1;33m \u001b[0mwords\u001b[0m \u001b[1;33m=\u001b[0m \u001b[0mnltk\u001b[0m\u001b[1;33m.\u001b[0m\u001b[0mword_tokenize\u001b[0m\u001b[1;33m(\u001b[0m\u001b[0mtraining_data\u001b[0m\u001b[1;33m)\u001b[0m\u001b[1;33m\u001b[0m\u001b[0m\n\u001b[0m",
      "\u001b[1;31mNameError\u001b[0m: name 'training_data' is not defined"
     ]
    }
   ],
   "source": [
    "# Tokenize the training data into words\n",
    "words = []\n",
    "for sentence in training_data:\n",
    "    words += sentence.split()"
   ]
  },
  {
   "cell_type": "code",
   "execution_count": 5,
   "id": "7cde2770",
   "metadata": {},
   "outputs": [
    {
     "data": {
      "text/plain": [
       "Counter({'The': 3,\n",
       "         'quick': 3,\n",
       "         'brown': 3,\n",
       "         'fox': 1,\n",
       "         'jumps': 3,\n",
       "         'over': 3,\n",
       "         'the': 3,\n",
       "         'lazy': 3,\n",
       "         'dog': 2,\n",
       "         'cat': 2,\n",
       "         'mouse': 1})"
      ]
     },
     "execution_count": 5,
     "metadata": {},
     "output_type": "execute_result"
    }
   ],
   "source": [
    "# Count the frequency of each word in the training data\n",
    "word_counts = collections.Counter(words)\n",
    "word_counts\n"
   ]
  },
  {
   "cell_type": "code",
   "execution_count": 4,
   "id": "315b7d86",
   "metadata": {},
   "outputs": [
    {
     "name": "stdout",
     "output_type": "stream",
     "text": [
      "Probability of 'the': 0.10526315789473684\n",
      "Probability of 'cat': 0.07894736842105263\n",
      "Probability of 'mouse': 0.05263157894736842\n"
     ]
    }
   ],
   "source": [
    "# Define the vocabulary size and the smoothing parameter\n",
    "vocab_size = len(word_counts)\n",
    "smoothing_param = 1\n",
    "\n",
    "# Compute the probability of each word using Laplace smoothing\n",
    "word_probabilities = {}\n",
    "for word, count in word_counts.items():\n",
    "    word_probabilities[word] = (count + smoothing_param) / (len(words) + smoothing_param * vocab_size)\n",
    "\n",
    "# Print the probability estimates for some example words\n",
    "print(\"Probability of 'the':\", word_probabilities['the'])\n",
    "print(\"Probability of 'cat':\", word_probabilities['cat'])\n",
    "print(\"Probability of 'mouse':\", word_probabilities['mouse'])"
   ]
  },
  {
   "cell_type": "code",
   "execution_count": null,
   "id": "6aeb9849",
   "metadata": {},
   "outputs": [],
   "source": []
  }
 ],
 "metadata": {
  "kernelspec": {
   "display_name": "Python 3 (ipykernel)",
   "language": "python",
   "name": "python3"
  },
  "language_info": {
   "codemirror_mode": {
    "name": "ipython",
    "version": 3
   },
   "file_extension": ".py",
   "mimetype": "text/x-python",
   "name": "python",
   "nbconvert_exporter": "python",
   "pygments_lexer": "ipython3",
   "version": "3.7.0"
  }
 },
 "nbformat": 4,
 "nbformat_minor": 5
}
